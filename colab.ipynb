{
 "cells": [
  {
   "cell_type": "markdown",
   "metadata": {},
   "source": [
    "# colab.ipynb\n",
    "\n",
    "*GunGyeom James Kim*\n",
    "\n",
    "*September 28th, 2023*\n",
    "\n",
    "*CS 7180: Advnaced Perception*\n",
    "\n",
    "- code for running on Colab environment\n",
    "- Have to upload data manually"
   ]
  },
  {
   "cell_type": "markdown",
   "metadata": {},
   "source": [
    "## delete unrelated material and load remote repository"
   ]
  },
  {
   "cell_type": "code",
   "execution_count": null,
   "metadata": {},
   "outputs": [],
   "source": [
    "!rm -r sample_data\n",
    "!git clone https://github.com/rodroadl/SRCNN-pytorch.git ./repo/"
   ]
  },
  {
   "cell_type": "markdown",
   "metadata": {},
   "source": [
    "## To reload modules before executing user code."
   ]
  },
  {
   "cell_type": "code",
   "execution_count": null,
   "metadata": {},
   "outputs": [],
   "source": [
    "%load_ext autoreload\n",
    "%autoreload 2"
   ]
  },
  {
   "cell_type": "markdown",
   "metadata": {},
   "source": [
    "## Train the network\n",
    "change arguments according to your need"
   ]
  },
  {
   "cell_type": "code",
   "execution_count": null,
   "metadata": {},
   "outputs": [],
   "source": [
    "!python repo/src/train.py --train-file \"91-image_x3.h5\" --eval-file \"Set5_x3.h5\" --outputs-dir \"repo/pth\" --scale 3 --lr 1e-4 --batch-size 16 --num-epochs 10 --seed 123"
   ]
  },
  {
   "cell_type": "markdown",
   "metadata": {},
   "source": [
    "## Test the network\n",
    "change arguments according to your need"
   ]
  },
  {
   "cell_type": "code",
   "execution_count": null,
   "metadata": {},
   "outputs": [],
   "source": [
    "!python repo/src/test.py --weights-file \"repo/pth/x3/best.pth\" --image-file \"butterfly.png\" --scale 3\n",
    "!python repo/src/test.py --weights-file \"repo/pth/x3/best.pth\" --image-file \"baby.png\" --scale 3\n",
    "!python repo/src/test.py --weights-file \"repo/pth/x3/best.pth\" --image-file \"bird.png\" --scale 3\n",
    "!python repo/src/test.py --weights-file \"repo/pth/x3/best.pth\" --image-file \"head.png\" --scale 3\n",
    "!python repo/src/test.py --weights-file \"repo/pth/x3/best.pth\" --image-file \"woman.png\" --scale 3"
   ]
  }
 ],
 "metadata": {
  "language_info": {
   "name": "python"
  },
  "orig_nbformat": 4
 },
 "nbformat": 4,
 "nbformat_minor": 2
}
